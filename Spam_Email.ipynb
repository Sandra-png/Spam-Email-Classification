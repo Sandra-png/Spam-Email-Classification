{
  "nbformat": 4,
  "nbformat_minor": 0,
  "metadata": {
    "colab": {
      "provenance": [],
      "authorship_tag": "ABX9TyNn9YzHi+tiITFS5l8K767m"
    },
    "kernelspec": {
      "name": "python3",
      "display_name": "Python 3"
    },
    "language_info": {
      "name": "python"
    }
  },
  "cells": [
    {
      "cell_type": "markdown",
      "source": [
        "# Spam Email Classification using Supervised Learning, followed by Feature Engineering"
      ],
      "metadata": {
        "id": "-765vMAkZzAM"
      }
    },
    {
      "cell_type": "markdown",
      "source": [
        "## 1. Uploading Kaggle API Key"
      ],
      "metadata": {
        "id": "8Uw0pBV0Z98x"
      }
    },
    {
      "cell_type": "code",
      "source": [
        "# I upload my Kaggle API Key\n",
        "from google.colab import files\n",
        "\n",
        "# Prompt user to upload Kaggle API key (kaggle.json)\n",
        "files.upload()\n",
        "\n",
        "# Proper API Key storage should be in a private location where others cannot view it.\n",
        "!mv \"kaggle.json\" /root/.kaggle/kaggle.json\n",
        "\n",
        "# Making the API Key private\n",
        "!chmod 600 /root/.kaggle/kaggle.json"
      ],
      "metadata": {
        "colab": {
          "base_uri": "https://localhost:8080/",
          "height": 57
        },
        "id": "v376KHOnx9Jh",
        "outputId": "cbe028d0-cc41-48e4-b18f-d6b420a75ed7"
      },
      "execution_count": 1,
      "outputs": [
        {
          "output_type": "display_data",
          "data": {
            "text/plain": [
              "<IPython.core.display.HTML object>"
            ],
            "text/html": [
              "\n",
              "     <input type=\"file\" id=\"files-b7fa330d-87a6-4182-a759-97f3adbf73cd\" name=\"files[]\" multiple disabled\n",
              "        style=\"border:none\" />\n",
              "     <output id=\"result-b7fa330d-87a6-4182-a759-97f3adbf73cd\">\n",
              "      Upload widget is only available when the cell has been executed in the\n",
              "      current browser session. Please rerun this cell to enable.\n",
              "      </output>\n",
              "      <script>// Copyright 2017 Google LLC\n",
              "//\n",
              "// Licensed under the Apache License, Version 2.0 (the \"License\");\n",
              "// you may not use this file except in compliance with the License.\n",
              "// You may obtain a copy of the License at\n",
              "//\n",
              "//      http://www.apache.org/licenses/LICENSE-2.0\n",
              "//\n",
              "// Unless required by applicable law or agreed to in writing, software\n",
              "// distributed under the License is distributed on an \"AS IS\" BASIS,\n",
              "// WITHOUT WARRANTIES OR CONDITIONS OF ANY KIND, either express or implied.\n",
              "// See the License for the specific language governing permissions and\n",
              "// limitations under the License.\n",
              "\n",
              "/**\n",
              " * @fileoverview Helpers for google.colab Python module.\n",
              " */\n",
              "(function(scope) {\n",
              "function span(text, styleAttributes = {}) {\n",
              "  const element = document.createElement('span');\n",
              "  element.textContent = text;\n",
              "  for (const key of Object.keys(styleAttributes)) {\n",
              "    element.style[key] = styleAttributes[key];\n",
              "  }\n",
              "  return element;\n",
              "}\n",
              "\n",
              "// Max number of bytes which will be uploaded at a time.\n",
              "const MAX_PAYLOAD_SIZE = 100 * 1024;\n",
              "\n",
              "function _uploadFiles(inputId, outputId) {\n",
              "  const steps = uploadFilesStep(inputId, outputId);\n",
              "  const outputElement = document.getElementById(outputId);\n",
              "  // Cache steps on the outputElement to make it available for the next call\n",
              "  // to uploadFilesContinue from Python.\n",
              "  outputElement.steps = steps;\n",
              "\n",
              "  return _uploadFilesContinue(outputId);\n",
              "}\n",
              "\n",
              "// This is roughly an async generator (not supported in the browser yet),\n",
              "// where there are multiple asynchronous steps and the Python side is going\n",
              "// to poll for completion of each step.\n",
              "// This uses a Promise to block the python side on completion of each step,\n",
              "// then passes the result of the previous step as the input to the next step.\n",
              "function _uploadFilesContinue(outputId) {\n",
              "  const outputElement = document.getElementById(outputId);\n",
              "  const steps = outputElement.steps;\n",
              "\n",
              "  const next = steps.next(outputElement.lastPromiseValue);\n",
              "  return Promise.resolve(next.value.promise).then((value) => {\n",
              "    // Cache the last promise value to make it available to the next\n",
              "    // step of the generator.\n",
              "    outputElement.lastPromiseValue = value;\n",
              "    return next.value.response;\n",
              "  });\n",
              "}\n",
              "\n",
              "/**\n",
              " * Generator function which is called between each async step of the upload\n",
              " * process.\n",
              " * @param {string} inputId Element ID of the input file picker element.\n",
              " * @param {string} outputId Element ID of the output display.\n",
              " * @return {!Iterable<!Object>} Iterable of next steps.\n",
              " */\n",
              "function* uploadFilesStep(inputId, outputId) {\n",
              "  const inputElement = document.getElementById(inputId);\n",
              "  inputElement.disabled = false;\n",
              "\n",
              "  const outputElement = document.getElementById(outputId);\n",
              "  outputElement.innerHTML = '';\n",
              "\n",
              "  const pickedPromise = new Promise((resolve) => {\n",
              "    inputElement.addEventListener('change', (e) => {\n",
              "      resolve(e.target.files);\n",
              "    });\n",
              "  });\n",
              "\n",
              "  const cancel = document.createElement('button');\n",
              "  inputElement.parentElement.appendChild(cancel);\n",
              "  cancel.textContent = 'Cancel upload';\n",
              "  const cancelPromise = new Promise((resolve) => {\n",
              "    cancel.onclick = () => {\n",
              "      resolve(null);\n",
              "    };\n",
              "  });\n",
              "\n",
              "  // Wait for the user to pick the files.\n",
              "  const files = yield {\n",
              "    promise: Promise.race([pickedPromise, cancelPromise]),\n",
              "    response: {\n",
              "      action: 'starting',\n",
              "    }\n",
              "  };\n",
              "\n",
              "  cancel.remove();\n",
              "\n",
              "  // Disable the input element since further picks are not allowed.\n",
              "  inputElement.disabled = true;\n",
              "\n",
              "  if (!files) {\n",
              "    return {\n",
              "      response: {\n",
              "        action: 'complete',\n",
              "      }\n",
              "    };\n",
              "  }\n",
              "\n",
              "  for (const file of files) {\n",
              "    const li = document.createElement('li');\n",
              "    li.append(span(file.name, {fontWeight: 'bold'}));\n",
              "    li.append(span(\n",
              "        `(${file.type || 'n/a'}) - ${file.size} bytes, ` +\n",
              "        `last modified: ${\n",
              "            file.lastModifiedDate ? file.lastModifiedDate.toLocaleDateString() :\n",
              "                                    'n/a'} - `));\n",
              "    const percent = span('0% done');\n",
              "    li.appendChild(percent);\n",
              "\n",
              "    outputElement.appendChild(li);\n",
              "\n",
              "    const fileDataPromise = new Promise((resolve) => {\n",
              "      const reader = new FileReader();\n",
              "      reader.onload = (e) => {\n",
              "        resolve(e.target.result);\n",
              "      };\n",
              "      reader.readAsArrayBuffer(file);\n",
              "    });\n",
              "    // Wait for the data to be ready.\n",
              "    let fileData = yield {\n",
              "      promise: fileDataPromise,\n",
              "      response: {\n",
              "        action: 'continue',\n",
              "      }\n",
              "    };\n",
              "\n",
              "    // Use a chunked sending to avoid message size limits. See b/62115660.\n",
              "    let position = 0;\n",
              "    do {\n",
              "      const length = Math.min(fileData.byteLength - position, MAX_PAYLOAD_SIZE);\n",
              "      const chunk = new Uint8Array(fileData, position, length);\n",
              "      position += length;\n",
              "\n",
              "      const base64 = btoa(String.fromCharCode.apply(null, chunk));\n",
              "      yield {\n",
              "        response: {\n",
              "          action: 'append',\n",
              "          file: file.name,\n",
              "          data: base64,\n",
              "        },\n",
              "      };\n",
              "\n",
              "      let percentDone = fileData.byteLength === 0 ?\n",
              "          100 :\n",
              "          Math.round((position / fileData.byteLength) * 100);\n",
              "      percent.textContent = `${percentDone}% done`;\n",
              "\n",
              "    } while (position < fileData.byteLength);\n",
              "  }\n",
              "\n",
              "  // All done.\n",
              "  yield {\n",
              "    response: {\n",
              "      action: 'complete',\n",
              "    }\n",
              "  };\n",
              "}\n",
              "\n",
              "scope.google = scope.google || {};\n",
              "scope.google.colab = scope.google.colab || {};\n",
              "scope.google.colab._files = {\n",
              "  _uploadFiles,\n",
              "  _uploadFilesContinue,\n",
              "};\n",
              "})(self);\n",
              "</script> "
            ]
          },
          "metadata": {}
        },
        {
          "output_type": "execute_result",
          "data": {
            "text/plain": [
              "{}"
            ]
          },
          "metadata": {},
          "execution_count": 1
        }
      ]
    },
    {
      "cell_type": "markdown",
      "source": [
        "## 2. Data Collection"
      ],
      "metadata": {
        "id": "1dDpxY09aPWC"
      }
    },
    {
      "cell_type": "code",
      "source": [
        "# Download the dataset directly from Kaggle, using the API key\n",
        "!kaggle datasets download -d balaka18/email-spam-classification-dataset-csv"
      ],
      "metadata": {
        "colab": {
          "base_uri": "https://localhost:8080/"
        },
        "id": "-3dDXfjhzXuA",
        "outputId": "9e378ac2-8d55-4fc1-e857-3ec6d3e0b6a3"
      },
      "execution_count": null,
      "outputs": [
        {
          "output_type": "stream",
          "name": "stdout",
          "text": [
            "email-spam-classification-dataset-csv.zip: Skipping, found more recently modified local copy (use --force to force download)\n"
          ]
        }
      ]
    },
    {
      "cell_type": "markdown",
      "source": [
        "Loading the dataset using pandas:"
      ],
      "metadata": {
        "id": "yR3-KM0b-eec"
      }
    },
    {
      "cell_type": "code",
      "source": [
        "# I import Pandas, which then reads the csv file\n",
        "import pandas as pd\n",
        "\n",
        "database = pd.read_csv ('/content/email-spam-classification-dataset-csv.zip')"
      ],
      "metadata": {
        "id": "j9AwwZnf3XJU"
      },
      "execution_count": null,
      "outputs": []
    },
    {
      "cell_type": "markdown",
      "source": [
        "## 3. Data Cleaning\n",
        "\n"
      ],
      "metadata": {
        "id": "z6P7WGBAaaG1"
      }
    },
    {
      "cell_type": "markdown",
      "source": [
        "Performing initial exploration of the dataset structure and integrity:"
      ],
      "metadata": {
        "id": "kq1pzUlMpt2O"
      }
    },
    {
      "cell_type": "code",
      "source": [
        "# head() shows the first few rows of data\n",
        "print (\"Data head:\\n\", database.head(), \"\\n\")\n",
        "\n",
        "# shape shows how many rows and columns the database has\n",
        "print (\"Data shape:\\n\", database.shape, \"\\n\")\n",
        "\n",
        "# dtypes goes through each column in the database and finds out what each type of data the columns hold\n",
        "print (\"Data dtypes:\\n\", database.dtypes, \"\\n\")\n",
        "\n",
        "# describe() gives us more basic statistics about the database\n",
        "print (\"Data describe:\\n\", database.describe(), \"\\n\")"
      ],
      "metadata": {
        "colab": {
          "base_uri": "https://localhost:8080/"
        },
        "id": "VzEWbAUeAxuA",
        "outputId": "9ad1f80e-dfa1-4937-8ed4-f284294b8fc5"
      },
      "execution_count": null,
      "outputs": [
        {
          "output_type": "stream",
          "name": "stdout",
          "text": [
            "Data head:\n",
            "   Email No.  the  to  ect  and  for  of    a  you  hou  ...  connevey  jay  \\\n",
            "0   Email 1    0   0    1    0    0   0    2    0    0  ...         0    0   \n",
            "1   Email 2    8  13   24    6    6   2  102    1   27  ...         0    0   \n",
            "2   Email 3    0   0    1    0    0   0    8    0    0  ...         0    0   \n",
            "3   Email 4    0   5   22    0    5   1   51    2   10  ...         0    0   \n",
            "4   Email 5    7   6   17    1    5   2   57    0    9  ...         0    0   \n",
            "\n",
            "   valued  lay  infrastructure  military  allowing  ff  dry  Prediction  \n",
            "0       0    0               0         0         0   0    0           0  \n",
            "1       0    0               0         0         0   1    0           0  \n",
            "2       0    0               0         0         0   0    0           0  \n",
            "3       0    0               0         0         0   0    0           0  \n",
            "4       0    0               0         0         0   1    0           0  \n",
            "\n",
            "[5 rows x 3002 columns] \n",
            "\n",
            "Data shape:\n",
            " (5172, 3002) \n",
            "\n",
            "Data dtypes:\n",
            " Email No.     object\n",
            "the            int64\n",
            "to             int64\n",
            "ect            int64\n",
            "and            int64\n",
            "               ...  \n",
            "military       int64\n",
            "allowing       int64\n",
            "ff             int64\n",
            "dry            int64\n",
            "Prediction     int64\n",
            "Length: 3002, dtype: object \n",
            "\n",
            "Data describe:\n",
            "                the           to          ect          and          for  \\\n",
            "count  5172.000000  5172.000000  5172.000000  5172.000000  5172.000000   \n",
            "mean      6.640565     6.188128     5.143852     3.075599     3.124710   \n",
            "std      11.745009     9.534576    14.101142     6.045970     4.680522   \n",
            "min       0.000000     0.000000     1.000000     0.000000     0.000000   \n",
            "25%       0.000000     1.000000     1.000000     0.000000     1.000000   \n",
            "50%       3.000000     3.000000     1.000000     1.000000     2.000000   \n",
            "75%       8.000000     7.000000     4.000000     3.000000     4.000000   \n",
            "max     210.000000   132.000000   344.000000    89.000000    47.000000   \n",
            "\n",
            "                of            a          you          hou           in  ...  \\\n",
            "count  5172.000000  5172.000000  5172.000000  5172.000000  5172.000000  ...   \n",
            "mean      2.627030    55.517401     2.466551     2.024362    10.600155  ...   \n",
            "std       6.229845    87.574172     4.314444     6.967878    19.281892  ...   \n",
            "min       0.000000     0.000000     0.000000     0.000000     0.000000  ...   \n",
            "25%       0.000000    12.000000     0.000000     0.000000     1.000000  ...   \n",
            "50%       1.000000    28.000000     1.000000     0.000000     5.000000  ...   \n",
            "75%       2.000000    62.250000     3.000000     1.000000    12.000000  ...   \n",
            "max      77.000000  1898.000000    70.000000   167.000000   223.000000  ...   \n",
            "\n",
            "          connevey          jay       valued          lay  infrastructure  \\\n",
            "count  5172.000000  5172.000000  5172.000000  5172.000000     5172.000000   \n",
            "mean      0.005027     0.012568     0.010634     0.098028        0.004254   \n",
            "std       0.105788     0.199682     0.116693     0.569532        0.096252   \n",
            "min       0.000000     0.000000     0.000000     0.000000        0.000000   \n",
            "25%       0.000000     0.000000     0.000000     0.000000        0.000000   \n",
            "50%       0.000000     0.000000     0.000000     0.000000        0.000000   \n",
            "75%       0.000000     0.000000     0.000000     0.000000        0.000000   \n",
            "max       4.000000     7.000000     2.000000    12.000000        3.000000   \n",
            "\n",
            "          military     allowing           ff          dry   Prediction  \n",
            "count  5172.000000  5172.000000  5172.000000  5172.000000  5172.000000  \n",
            "mean      0.006574     0.004060     0.914733     0.006961     0.290023  \n",
            "std       0.138908     0.072145     2.780203     0.098086     0.453817  \n",
            "min       0.000000     0.000000     0.000000     0.000000     0.000000  \n",
            "25%       0.000000     0.000000     0.000000     0.000000     0.000000  \n",
            "50%       0.000000     0.000000     0.000000     0.000000     0.000000  \n",
            "75%       0.000000     0.000000     1.000000     0.000000     1.000000  \n",
            "max       4.000000     3.000000   114.000000     4.000000     1.000000  \n",
            "\n",
            "[8 rows x 3001 columns] \n",
            "\n"
          ]
        }
      ]
    },
    {
      "cell_type": "markdown",
      "source": [
        "Checking for and removing missing values:"
      ],
      "metadata": {
        "id": "d_b-MphEDRSF"
      }
    },
    {
      "cell_type": "code",
      "source": [
        "# Storing the missing values from the database.\n",
        "# The missing values are the columns where there is no data\n",
        "missing_values = database.isnull().sum()\n",
        "\n",
        "# Printing the missing values\n",
        "print (\"Values that are missing:\\n\", missing_values)\n",
        "\n",
        "# Removing the missing values from the database\n",
        "cleansed_data = database.dropna()"
      ],
      "metadata": {
        "colab": {
          "base_uri": "https://localhost:8080/"
        },
        "id": "sU6ixCGgDSHX",
        "outputId": "1ac0c67e-c6ff-418e-a4a9-21c3e0668b28"
      },
      "execution_count": null,
      "outputs": [
        {
          "output_type": "stream",
          "name": "stdout",
          "text": [
            "Values that are missing:\n",
            " Email No.     0\n",
            "the           0\n",
            "to            0\n",
            "ect           0\n",
            "and           0\n",
            "             ..\n",
            "military      0\n",
            "allowing      0\n",
            "ff            0\n",
            "dry           0\n",
            "Prediction    0\n",
            "Length: 3002, dtype: int64\n"
          ]
        }
      ]
    },
    {
      "cell_type": "markdown",
      "source": [
        "Checking for and removing duplicate entries:"
      ],
      "metadata": {
        "id": "tgSio5z2q5BE"
      }
    },
    {
      "cell_type": "code",
      "source": [
        "# Placing all the duplicate rows in the database into a variable\n",
        "duplicate_rows = database [database.duplicated()]\n",
        "\n",
        "# Printing the rows to see if there are any\n",
        "print (\"Duplicate Rows:\\n\", duplicate_rows)\n",
        "\n",
        "# Removing the rows\n",
        "removed_data = database.drop_duplicates()"
      ],
      "metadata": {
        "colab": {
          "base_uri": "https://localhost:8080/"
        },
        "id": "qMuuWQLiYc6P",
        "outputId": "0d849fcd-2cd9-4bd9-c69b-d1f4e74c6d4d"
      },
      "execution_count": null,
      "outputs": [
        {
          "output_type": "stream",
          "name": "stdout",
          "text": [
            "Duplicate Rows:\n",
            " Empty DataFrame\n",
            "Columns: [Email No., the, to, ect, and, for, of, a, you, hou, in, on, is, this, enron, i, be, that, will, have, with, your, at, we, s, are, it, by, com, as, from, gas, or, not, me, deal, if, meter, hpl, please, re, e, any, our, corp, can, d, all, has, was, know, need, an, forwarded, new, t, may, up, j, mmbtu, should, do, am, get, out, see, no, there, price, daren, but, been, company, l, these, let, so, would, m, into, xls, farmer, attached, us, information, they, message, day, time, my, one, what, only, http, th, volume, mail, contract, which, month, ...]\n",
            "Index: []\n",
            "\n",
            "[0 rows x 3002 columns]\n"
          ]
        }
      ]
    },
    {
      "cell_type": "markdown",
      "source": [
        "There do not seem to be any duplicated rows."
      ],
      "metadata": {
        "id": "MVOOZ5piZkHD"
      }
    },
    {
      "cell_type": "markdown",
      "source": [
        "## 4.  Exploration Data Analysis (EDA)"
      ],
      "metadata": {
        "id": "cL4yfYoUamm1"
      }
    },
    {
      "cell_type": "markdown",
      "source": [
        "Visualizing the distribution of the target variable:"
      ],
      "metadata": {
        "id": "cyFzQ5r7ocJ6"
      }
    },
    {
      "cell_type": "code",
      "source": [
        "# I import both matplotlib and seaborn\n",
        "import matplotlib.pyplot as plt\n",
        "import seaborn as sns\n",
        "\n",
        "# I want the figure to be 6 x 6\n",
        "plt.figure (figsize = (6, 6))\n",
        "\n",
        "# I am counting from the database column \"Prediction\"\n",
        "sns.countplot (x = database [\"Prediction\"])\n",
        "\n",
        "# The title of the figure\n",
        "plt.title (\"Distribution of Prediction (Target Variable)\")\n",
        "\n",
        "# The X axis is named Prediction\n",
        "plt.xlabel (\"Prediction\")\n",
        "\n",
        "# The Y axis is named Count\n",
        "plt.ylabel (\"Count\")\n",
        "\n",
        "# Finally, I show the figure\n",
        "plt.show()"
      ],
      "metadata": {
        "colab": {
          "base_uri": "https://localhost:8080/",
          "height": 564
        },
        "id": "jIC7MmkUvi5S",
        "outputId": "3bd69608-3a31-46bd-a908-d9c564cfc332"
      },
      "execution_count": null,
      "outputs": [
        {
          "output_type": "display_data",
          "data": {
            "text/plain": [
              "<Figure size 600x600 with 1 Axes>"
            ],
            "image/png": "[encoded data removed]"
          },
          "metadata": {}
        }
      ]
    },
    {
      "cell_type": "markdown",
      "source": [
        "## 5. Feature Engineering"
      ],
      "metadata": {
        "id": "13f8ClIva4T-"
      }
    },
    {
      "cell_type": "markdown",
      "source": [
        "In the next code snippets I am preparing the data by dropping the \"Email No.\" and \"Prediction\" columns, with the target variable being the \"Prediction\" column. The model learns that the Y predicted spam emails have \"z\" features from X, and from the correlation can predict spam emails."
      ],
      "metadata": {
        "id": "PB153RW3DD_x"
      }
    },
    {
      "cell_type": "code",
      "source": [
        "# I use \"X\" as features to make predictions based on the database.\n",
        "# I tell the database to drop two columns; \"Email No.\" and \"Prediction\".\n",
        "# The features of the database will therefore be all columns except for the specified two.\n",
        "# I cannot predict the target variable, so \"Prediction\" also gets cut.\n",
        "X = database.drop (columns = [\"Email No.\", \"Prediction\"])\n",
        "\n",
        "# I use \"Y\" as the Target Variable, which is what we want to predict.\n",
        "# Prediction is our target variable, based on the X features.\n",
        "# Here, the Target Variable is if an email is spam or not.\n",
        "y = database [\"Prediction\"]"
      ],
      "metadata": {
        "id": "dm2Hf7fCDEL-"
      },
      "execution_count": null,
      "outputs": []
    },
    {
      "cell_type": "markdown",
      "source": [
        "I thereafter split the dataset into training and testing, where 20% goes into testing after training."
      ],
      "metadata": {
        "id": "8zaBr6jVsayt"
      }
    },
    {
      "cell_type": "code",
      "source": [
        "# I import a function that will split the database into training and testing\n",
        "from sklearn.model_selection import train_test_split\n",
        "\n",
        "# The data gets divided into training & testing. Like defined above, X are features and y is the target variable.\n",
        "# Using the train and test functions, the model learns the relationship between the features and the target\n",
        "# test_size tells the database how much of the data is to be used for training (80%) vs. testing (20%)\n",
        "# The random state is a random number that ensures that the data gets split the same way whenever the code is run, keeping it producing consistent results.\n",
        "X_train, X_test, y_train, y_test = train_test_split (X, y, test_size = 0.2, random_state = 42 )"
      ],
      "metadata": {
        "id": "hiQIi88FQxAj"
      },
      "execution_count": null,
      "outputs": []
    },
    {
      "cell_type": "markdown",
      "source": [
        "## 6. Model Training"
      ],
      "metadata": {
        "id": "EWVOWBGKcWHV"
      }
    },
    {
      "cell_type": "markdown",
      "source": [
        "Using Multinominal Naive Bayes, the model gets trained:"
      ],
      "metadata": {
        "id": "6lMvCbY9sfEH"
      }
    },
    {
      "cell_type": "code",
      "source": [
        "# I import the Multinomial Naive Bayes Algorithm\n",
        "from sklearn.naive_bayes import MultinomialNB\n",
        "\n",
        "# I initialize the Naive Bayes classifier\n",
        "nb_classifier = MultinomialNB()\n",
        "\n",
        "# I train the classifier using the training data specified above\n",
        "nb_classifier.fit (X_train, y_train)"
      ],
      "metadata": {
        "colab": {
          "base_uri": "https://localhost:8080/",
          "height": 74
        },
        "id": "7HaDLdbSRGQ_",
        "outputId": "e0a47787-9c0b-464e-e53f-dfb2b2debe59"
      },
      "execution_count": null,
      "outputs": [
        {
          "output_type": "execute_result",
          "data": {
            "text/plain": [
              "MultinomialNB()"
            ],
            "text/html": [
              "<style>#sk-container-id-5 {color: black;background-color: white;}#sk-container-id-5 pre{padding: 0;}#sk-container-id-5 div.sk-toggleable {background-color: white;}#sk-container-id-5 label.sk-toggleable__label {cursor: pointer;display: block;width: 100%;margin-bottom: 0;padding: 0.3em;box-sizing: border-box;text-align: center;}#sk-container-id-5 label.sk-toggleable__label-arrow:before {content: \"▸\";float: left;margin-right: 0.25em;color: #696969;}#sk-container-id-5 label.sk-toggleable__label-arrow:hover:before {color: black;}#sk-container-id-5 div.sk-estimator:hover label.sk-toggleable__label-arrow:before {color: black;}#sk-container-id-5 div.sk-toggleable__content {max-height: 0;max-width: 0;overflow: hidden;text-align: left;background-color: #f0f8ff;}#sk-container-id-5 div.sk-toggleable__content pre {margin: 0.2em;color: black;border-radius: 0.25em;background-color: #f0f8ff;}#sk-container-id-5 input.sk-toggleable__control:checked~div.sk-toggleable__content {max-height: 200px;max-width: 100%;overflow: auto;}#sk-container-id-5 input.sk-toggleable__control:checked~label.sk-toggleable__label-arrow:before {content: \"▾\";}#sk-container-id-5 div.sk-estimator input.sk-toggleable__control:checked~label.sk-toggleable__label {background-color: #d4ebff;}#sk-container-id-5 div.sk-label input.sk-toggleable__control:checked~label.sk-toggleable__label {background-color: #d4ebff;}#sk-container-id-5 input.sk-hidden--visually {border: 0;clip: rect(1px 1px 1px 1px);clip: rect(1px, 1px, 1px, 1px);height: 1px;margin: -1px;overflow: hidden;padding: 0;position: absolute;width: 1px;}#sk-container-id-5 div.sk-estimator {font-family: monospace;background-color: #f0f8ff;border: 1px dotted black;border-radius: 0.25em;box-sizing: border-box;margin-bottom: 0.5em;}#sk-container-id-5 div.sk-estimator:hover {background-color: #d4ebff;}#sk-container-id-5 div.sk-parallel-item::after {content: \"\";width: 100%;border-bottom: 1px solid gray;flex-grow: 1;}#sk-container-id-5 div.sk-label:hover label.sk-toggleable__label {background-color: #d4ebff;}#sk-container-id-5 div.sk-serial::before {content: \"\";position: absolute;border-left: 1px solid gray;box-sizing: border-box;top: 0;bottom: 0;left: 50%;z-index: 0;}#sk-container-id-5 div.sk-serial {display: flex;flex-direction: column;align-items: center;background-color: white;padding-right: 0.2em;padding-left: 0.2em;position: relative;}#sk-container-id-5 div.sk-item {position: relative;z-index: 1;}#sk-container-id-5 div.sk-parallel {display: flex;align-items: stretch;justify-content: center;background-color: white;position: relative;}#sk-container-id-5 div.sk-item::before, #sk-container-id-5 div.sk-parallel-item::before {content: \"\";position: absolute;border-left: 1px solid gray;box-sizing: border-box;top: 0;bottom: 0;left: 50%;z-index: -1;}#sk-container-id-5 div.sk-parallel-item {display: flex;flex-direction: column;z-index: 1;position: relative;background-color: white;}#sk-container-id-5 div.sk-parallel-item:first-child::after {align-self: flex-end;width: 50%;}#sk-container-id-5 div.sk-parallel-item:last-child::after {align-self: flex-start;width: 50%;}#sk-container-id-5 div.sk-parallel-item:only-child::after {width: 0;}#sk-container-id-5 div.sk-dashed-wrapped {border: 1px dashed gray;margin: 0 0.4em 0.5em 0.4em;box-sizing: border-box;padding-bottom: 0.4em;background-color: white;}#sk-container-id-5 div.sk-label label {font-family: monospace;font-weight: bold;display: inline-block;line-height: 1.2em;}#sk-container-id-5 div.sk-label-container {text-align: center;}#sk-container-id-5 div.sk-container {/* jupyter's `normalize.less` sets `[hidden] { display: none; }` but bootstrap.min.css set `[hidden] { display: none !important; }` so we also need the `!important` here to be able to override the default hidden behavior on the sphinx rendered scikit-learn.org. See: https://github.com/scikit-learn/scikit-learn/issues/21755 */display: inline-block !important;position: relative;}#sk-container-id-5 div.sk-text-repr-fallback {display: none;}</style><div id=\"sk-container-id-5\" class=\"sk-top-container\"><div class=\"sk-text-repr-fallback\"><pre>MultinomialNB()</pre><b>In a Jupyter environment, please rerun this cell to show the HTML representation or trust the notebook. <br />On GitHub, the HTML representation is unable to render, please try loading this page with nbviewer.org.</b></div><div class=\"sk-container\" hidden><div class=\"sk-item\"><div class=\"sk-estimator sk-toggleable\"><input class=\"sk-toggleable__control sk-hidden--visually\" id=\"sk-estimator-id-5\" type=\"checkbox\" checked><label for=\"sk-estimator-id-5\" class=\"sk-toggleable__label sk-toggleable__label-arrow\">MultinomialNB</label><div class=\"sk-toggleable__content\"><pre>MultinomialNB()</pre></div></div></div></div></div>"
            ]
          },
          "metadata": {},
          "execution_count": 35
        }
      ]
    },
    {
      "cell_type": "markdown",
      "source": [
        "## 7. Evaluation & Metrics\n"
      ],
      "metadata": {
        "id": "UAMUk3AhnTJM"
      }
    },
    {
      "cell_type": "markdown",
      "source": [
        "Evaluating the model performance using accuracy, precision, recall, F1 score, and a confusion matrix:"
      ],
      "metadata": {
        "id": "vMDIcyGXspco"
      }
    },
    {
      "cell_type": "code",
      "source": [
        "# I import the metrics I need to evaluate the model\n",
        "from sklearn.metrics import accuracy_score, precision_score, recall_score, f1_score, confusion_matrix\n",
        "\n",
        "# I predict the Target Variable for the testing set\n",
        "y_prediction = nb_classifier.predict (X_test)\n",
        "\n",
        "# These are the evaluation metrics I chose, and now calculate them based on the testing and prediction\n",
        "accuracy = accuracy_score (y_test, y_prediction)\n",
        "precision = precision_score (y_test, y_prediction)\n",
        "recall = recall_score (y_test, y_prediction)\n",
        "score = f1_score (y_test, y_prediction)\n",
        "\n",
        "# I print the results of the evaluation metrics\n",
        "print (\"Accuracy:\", accuracy)\n",
        "print (\"Precision:\", precision)\n",
        "print (\"Recall:\", recall)\n",
        "print (\"F1 Score:\", score)\n",
        "\n",
        "# The confusion matrix describes the correct and incorrect predictions\n",
        "# y_test is the values of the test set\n",
        "# y_predictions are the predicted model values for the same data\n",
        "\n",
        "# The confusion matrix calculates:\n",
        "#   - number of true positives\n",
        "#   - number of false positives\n",
        "#   - number of true negatives\n",
        "#   - number of false negatives\n",
        "conf_matrix = confusion_matrix (y_test, y_prediction)\n",
        "print (\"\\nConfusion Matrix:\\n\", conf_matrix)\n"
      ],
      "metadata": {
        "colab": {
          "base_uri": "https://localhost:8080/"
        },
        "id": "Fmtruji_SEQi",
        "outputId": "eed2dccb-9914-4c90-adbb-2ed8448e8dcf"
      },
      "execution_count": null,
      "outputs": [
        {
          "output_type": "stream",
          "name": "stdout",
          "text": [
            "Accuracy: 0.9545893719806763\n",
            "Precision: 0.890282131661442\n",
            "Recall: 0.9594594594594594\n",
            "F1 Score: 0.9235772357723576\n",
            "\n",
            "Confusion Matrix:\n",
            " [[704  35]\n",
            " [ 12 284]]\n"
          ]
        }
      ]
    },
    {
      "cell_type": "markdown",
      "source": [
        "The results of the metrics show that the model can filter out spam vs. legitimate emails, with an accuracy (number of correct email classifications) of 95.46%, with a precision (percentage of correct spam emails) of 89.03%, a recall (emails counted as spam that were actually spam) of 95.95%, and the F1 Score (a formula that combines the precision and recall with a focus on lower values, meant to indicate if the performance is good or not) of 92.36%, which is closer to 1 and 0 and considered a good overall performance, because it indicates that the model has a good balance of minimizing false positives, and false negatives.\n",
        "\n",
        "<br>\n",
        "\n",
        "For the Confusion Matrix:\n",
        "- The top left number (704) is the True Negatives, which are the number of correctly predicted legitimate emails.\n",
        "\n",
        "- The top right number (35) is the False Positives, which is the number of legitimate emails incorrectly classified as spam.\n",
        "\n",
        "- The bottom left number (12) is the False Negatives, which is the number of spam emails incorrectly classified as legitimate emails.\n",
        "\n",
        "- The bottom right number (284) is the True Positives, which is the number of correctly classified spam emails."
      ],
      "metadata": {
        "id": "-mCYZCvD1C9b"
      }
    },
    {
      "cell_type": "markdown",
      "source": [
        "## 8. Visualization"
      ],
      "metadata": {
        "id": "czhd5hEvcgHH"
      }
    },
    {
      "cell_type": "markdown",
      "source": [
        "Visualizing the confusion matrix with a heatmap:"
      ],
      "metadata": {
        "id": "6jBqjZx_ttLI"
      }
    },
    {
      "cell_type": "code",
      "source": [
        "# The size of the figure\n",
        "plt.figure (figsize = (6, 6))\n",
        "\n",
        "# I create a heatmap figure using the Seaborn library that visualizes the confusion matrix\n",
        "# annot = True lets the counts be displayed, using fmt = \"d\" the format becomes decimals\n",
        "# I change the color of the figure using cmap = \"Reds\"\n",
        "sns.heatmap (conf_matrix, annot = True, fmt = \"d\", cmap = \"Reds\")\n",
        "\n",
        "# I set the title of the figure\n",
        "plt.title (\"Confusion Matrix Figure\")\n",
        "\n",
        "# X axis name\n",
        "plt.xlabel (\"Prediction\")\n",
        "\n",
        "# Y axis name\n",
        "plt.ylabel (\"True\")\n",
        "\n",
        "plt.show()"
      ],
      "metadata": {
        "colab": {
          "base_uri": "https://localhost:8080/",
          "height": 564
        },
        "id": "yiYECB7qyrrr",
        "outputId": "5e925ead-480e-4174-8597-5de23fe2a581"
      },
      "execution_count": null,
      "outputs": [
        {
          "output_type": "display_data",
          "data": {
            "text/plain": [
              "<Figure size 600x600 with 2 Axes>"
            ],
            "image/png": "[encoded data removed]"
          },
          "metadata": {}
        }
      ]
    }
  ]
}